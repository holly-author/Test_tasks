{
 "cells": [
  {
   "cell_type": "code",
   "execution_count": null,
   "metadata": {},
   "outputs": [],
   "source": [
    "import random\n",
    "# Для коректной работы модуль клавиатуры должен быть установлен\n",
    "#import keyboard\n",
    "\n",
    "class Play():\n",
    "    def low_damage():\n",
    "        damage = random.randint(18,26)\n",
    "        return damage\n",
    "    \n",
    "    def heavy_damage():\n",
    "        damage = random.randint(10,36)\n",
    "        return damage\n",
    "    \n",
    "    def heal():\n",
    "        heal=random.randint(18,26)\n",
    "        return heal"
   ]
  },
  {
   "cell_type": "code",
   "execution_count": null,
   "metadata": {},
   "outputs": [],
   "source": [
    "class Player(Play):\n",
    "    health=100\n",
    "    name = 'Player 1'\n",
    "\n",
    "class Computer(Play):\n",
    "    health=100\n",
    "    name = 'Player 2'"
   ]
  },
  {
   "cell_type": "code",
   "execution_count": null,
   "metadata": {},
   "outputs": [],
   "source": [
    "# Вывод уровеня здоровья каждого игрока\n",
    "def health_state():\n",
    "    print('{} health: {}'.format(player_1.name, player_1.health))\n",
    "    print('{} health: {}'.format(player_2.name, player_2.health))"
   ]
  },
  {
   "cell_type": "code",
   "execution_count": null,
   "metadata": {},
   "outputs": [],
   "source": [
    "# Функция проверяет завершилась ли игра, если уровень здоровья одного из игроков упал ниже нуля.\n",
    "def game_over():\n",
    "    if curr_player.health <= 0: \n",
    "        print('{} win. Game over'.format(next_player.name))\n",
    "        return False \n",
    "    elif next_player.health <= 0:\n",
    "        print('{} win. Game over'.format(curr_player.name))\n",
    "        return False \n",
    "    else:\n",
    "        return True"
   ]
  },
  {
   "cell_type": "code",
   "execution_count": null,
   "metadata": {},
   "outputs": [],
   "source": [
    "# Действие вибирается случаныйным образом из 3-х возможных, для каждого присваивается свой номер.\n",
    "# Если уровень здоровья компьютера ниже 35, выполняется выбор из 2-х вариантов.\n",
    "    \n",
    "def action():\n",
    "    if (curr_player == player_2) and (player_2.health < 35):\n",
    "        action = random.choice([1,3])\n",
    "    else:\n",
    "        action = random.choice([1,2,3])\n",
    "        \n",
    "    # Для каждого действия вызывается соответствующая функция из класса Play        \n",
    "    if action == 1:\n",
    "        damage_level = next_player.low_damage()\n",
    "        next_player.health -= damage_level\n",
    "        print('{} used low damage -{}'.format(curr_player.name,damage_level))\n",
    "        \n",
    "    elif action == 2:\n",
    "        damage_level = next_player.heavy_damage()\n",
    "        next_player.health-= damage_level\n",
    "        print('{} used heavy damage -{}'.format(curr_player.name,damage_level))\n",
    "        \n",
    "    else:\n",
    "        heal_level = curr_player.heal()\n",
    "        curr_player.health+=heal_level\n",
    "        print('{} healed himself +{}'.format(curr_player.name,heal_level))\n",
    "        \n",
    "    health_state()"
   ]
  },
  {
   "cell_type": "code",
   "execution_count": null,
   "metadata": {},
   "outputs": [],
   "source": [
    "player_1 = Player\n",
    "player_2 = Computer"
   ]
  },
  {
   "cell_type": "code",
   "execution_count": null,
   "metadata": {},
   "outputs": [],
   "source": [
    "# Выбор первого игрока происходит рандомно, 1 - для игрока, 2 - для компьютера.\n",
    "# Curr_player хранит текущего игрока, а next_player - чей ход будет следующим.\n",
    "\n",
    "curr_player = random.choice([1,2])\n",
    "if curr_player == 1:\n",
    "    curr_player = player_1\n",
    "    next_player = player_2\n",
    "    print ('>> You are {}! To start press space'.format(player_1.name))\n",
    "    # Все дейтсвия игрока происходят по клавише space.\n",
    "   # keyboard.wait('space')\n",
    "else: \n",
    "    curr_player = player_2\n",
    "    next_player = player_1\n",
    "    print('>> {} started'.format(player_2.name))\n",
    "\n",
    "# Тело игры. Игра продолжается, пока функция game_over не вернет False.    \n",
    "game = game_over()\n",
    "while game:\n",
    "    action()\n",
    "    # Текущий игрок становится следующим, а следующий текущим.\n",
    "    if curr_player == player_1:\n",
    "        curr_player = player_2\n",
    "        next_player = player_1\n",
    "    else:\n",
    "        curr_player = player_1\n",
    "        next_player = player_2\n",
    "        print('--------------------------------------------------------')\n",
    "        print('>> Your turn. Press space to attack enemy or heal yourself')\n",
    "    #    keyboard.wait('space')\n",
    "    print('--------------------------------------------------------')\n",
    "    game = game_over()"
   ]
  },
  {
   "cell_type": "code",
   "execution_count": null,
   "metadata": {},
   "outputs": [],
   "source": []
  }
 ],
 "metadata": {
  "kernelspec": {
   "display_name": "Python 3",
   "language": "python",
   "name": "python3"
  },
  "language_info": {
   "codemirror_mode": {
    "name": "ipython",
    "version": 3
   },
   "file_extension": ".py",
   "mimetype": "text/x-python",
   "name": "python",
   "nbconvert_exporter": "python",
   "pygments_lexer": "ipython3",
   "version": "3.6.5"
  }
 },
 "nbformat": 4,
 "nbformat_minor": 2
}
